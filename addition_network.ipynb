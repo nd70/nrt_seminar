{
 "cells": [
  {
   "cell_type": "markdown",
   "metadata": {
    "Collapsed": "false"
   },
   "source": [
    "Addition Network\n",
    "================"
   ]
  },
  {
   "cell_type": "code",
   "execution_count": 66,
   "metadata": {
    "Collapsed": "false"
   },
   "outputs": [],
   "source": [
    "import matplotlib\n",
    "#matplotlib.use('agg')\n",
    "import matplotlib.pyplot as plt\n",
    "%matplotlib inline\n",
    "import numpy as np\n",
    "np.random.seed(1337)\n",
    "from keras.models import Sequential\n",
    "from keras.layers import Dense"
   ]
  },
  {
   "cell_type": "code",
   "execution_count": 112,
   "metadata": {
    "Collapsed": "false"
   },
   "outputs": [
    {
     "name": "stdout",
     "output_type": "stream",
     "text": [
      "15 +  1 = 16\n",
      "15 + 15 = 30\n",
      " 3 + 22 = 25\n",
      " 7 +  1 =  8\n",
      " 7 +  7 = 14\n",
      "18 +  7 = 25\n",
      " 7 + 18 = 25\n",
      " 9 +  4 = 13\n",
      "20 +  4 = 24\n",
      "16 + 20 = 36\n"
     ]
    }
   ],
   "source": [
    "# make a list of 100 pairs from 0-25 for the network to add together\n",
    "input_data = np.random.randint(25, size=(100,2))\n",
    "target_data = np.array([x[0] + x[1] for x in input_data])\n",
    "for ii in range(10):\n",
    "    a, b = input_data[ii, :]\n",
    "    ans = target_data[ii]\n",
    "    print('{0:>2} + {1:>2} = {2:>2}'.format(a, b, ans))"
   ]
  },
  {
   "cell_type": "markdown",
   "metadata": {
    "Collapsed": "false"
   },
   "source": [
    "Now that we have our data set, let's split it into training and testing data"
   ]
  },
  {
   "cell_type": "code",
   "execution_count": 68,
   "metadata": {
    "Collapsed": "false"
   },
   "outputs": [
    {
     "name": "stdout",
     "output_type": "stream",
     "text": [
      "x_train.shape=(75, 2), y_train.shape=(75,)\n",
      "x_test.shape=(25, 2), y_test.shape=(25,)\n"
     ]
    }
   ],
   "source": [
    "train_size = 75\n",
    "\n",
    "# this is the data we train the network on\n",
    "x_train = input_data[:train_size, :]\n",
    "y_train = target_data[:train_size]\n",
    "\n",
    "# this is the data that we test to see how well we did during training\n",
    "x_test = input_data[train_size:, :]\n",
    "y_test = target_data[train_size:]\n",
    "\n",
    "print('x_train.shape={0}, y_train.shape={1}'.format(x_train.shape, y_train.shape))\n",
    "print('x_test.shape={0}, y_test.shape={1}'.format(x_test.shape, y_test.shape))"
   ]
  },
  {
   "cell_type": "markdown",
   "metadata": {
    "Collapsed": "false"
   },
   "source": [
    "Network Architecture\n",
    "====================\n",
    "\n",
    "Now that we have our data split the way we want it, we can design the architecture of the network.\n",
    "\n",
    "Since the task at hand is linear, we will first use linear activation functions.\n",
    "\n",
    "To keep things simple, we will use the Mean Square Error loss function and the Adam optimizer"
   ]
  },
  {
   "cell_type": "code",
   "execution_count": 69,
   "metadata": {
    "Collapsed": "false"
   },
   "outputs": [
    {
     "name": "stdout",
     "output_type": "stream",
     "text": [
      "Train on 75 samples, validate on 25 samples\n",
      "Epoch 1/100\n",
      "75/75 [==============================] - 1s 9ms/step - loss: 53.8786 - val_loss: 28.4418\n",
      "Epoch 2/100\n",
      "75/75 [==============================] - 0s 2ms/step - loss: 15.8106 - val_loss: 10.9260\n",
      "Epoch 3/100\n",
      "75/75 [==============================] - 0s 2ms/step - loss: 7.0144 - val_loss: 7.5543\n",
      "Epoch 4/100\n",
      "75/75 [==============================] - 0s 2ms/step - loss: 5.2460 - val_loss: 6.1277\n",
      "Epoch 5/100\n",
      "75/75 [==============================] - 0s 2ms/step - loss: 4.3506 - val_loss: 5.0097\n",
      "Epoch 6/100\n",
      "75/75 [==============================] - 0s 1ms/step - loss: 3.5760 - val_loss: 4.0416\n",
      "Epoch 7/100\n",
      "75/75 [==============================] - 0s 1ms/step - loss: 2.8181 - val_loss: 3.1809\n",
      "Epoch 8/100\n",
      "75/75 [==============================] - 0s 2ms/step - loss: 2.1953 - val_loss: 2.4752\n",
      "Epoch 9/100\n",
      "75/75 [==============================] - 0s 1ms/step - loss: 1.6965 - val_loss: 1.8656\n",
      "Epoch 10/100\n",
      "75/75 [==============================] - 0s 1ms/step - loss: 1.2843 - val_loss: 1.3759\n",
      "Epoch 11/100\n",
      "75/75 [==============================] - 0s 1ms/step - loss: 0.9444 - val_loss: 0.9946\n",
      "Epoch 12/100\n",
      "75/75 [==============================] - 0s 2ms/step - loss: 0.6762 - val_loss: 0.6966\n",
      "Epoch 13/100\n",
      "75/75 [==============================] - 0s 1ms/step - loss: 0.4784 - val_loss: 0.4986\n",
      "Epoch 14/100\n",
      "75/75 [==============================] - 0s 2ms/step - loss: 0.3365 - val_loss: 0.3356\n",
      "Epoch 15/100\n",
      "75/75 [==============================] - 0s 2ms/step - loss: 0.2294 - val_loss: 0.2211\n",
      "Epoch 16/100\n",
      "75/75 [==============================] - 0s 2ms/step - loss: 0.1562 - val_loss: 0.1469\n",
      "Epoch 17/100\n",
      "75/75 [==============================] - 0s 2ms/step - loss: 0.1057 - val_loss: 0.0972\n",
      "Epoch 18/100\n",
      "75/75 [==============================] - 0s 2ms/step - loss: 0.0725 - val_loss: 0.0638\n",
      "Epoch 19/100\n",
      "75/75 [==============================] - 0s 2ms/step - loss: 0.0509 - val_loss: 0.0416\n",
      "Epoch 20/100\n",
      "75/75 [==============================] - 0s 2ms/step - loss: 0.0363 - val_loss: 0.0290\n",
      "Epoch 21/100\n",
      "75/75 [==============================] - 0s 1ms/step - loss: 0.0271 - val_loss: 0.0220\n",
      "Epoch 22/100\n",
      "75/75 [==============================] - 0s 2ms/step - loss: 0.0216 - val_loss: 0.0169\n",
      "Epoch 23/100\n",
      "75/75 [==============================] - 0s 2ms/step - loss: 0.0185 - val_loss: 0.0141\n",
      "Epoch 24/100\n",
      "75/75 [==============================] - 0s 2ms/step - loss: 0.0165 - val_loss: 0.0127\n",
      "Epoch 25/100\n",
      "75/75 [==============================] - 0s 2ms/step - loss: 0.0146 - val_loss: 0.0120\n",
      "Epoch 26/100\n",
      "75/75 [==============================] - 0s 1ms/step - loss: 0.0138 - val_loss: 0.0106\n",
      "Epoch 27/100\n",
      "75/75 [==============================] - 0s 1ms/step - loss: 0.0128 - val_loss: 0.0101\n",
      "Epoch 28/100\n",
      "75/75 [==============================] - 0s 2ms/step - loss: 0.0121 - val_loss: 0.0096\n",
      "Epoch 29/100\n",
      "75/75 [==============================] - 0s 1ms/step - loss: 0.0114 - val_loss: 0.0091\n",
      "Epoch 30/100\n",
      "75/75 [==============================] - 0s 2ms/step - loss: 0.0111 - val_loss: 0.0094\n",
      "Epoch 31/100\n",
      "75/75 [==============================] - 0s 2ms/step - loss: 0.0097 - val_loss: 0.0084\n",
      "Epoch 32/100\n",
      "75/75 [==============================] - 0s 2ms/step - loss: 0.0095 - val_loss: 0.0077\n",
      "Epoch 33/100\n",
      "75/75 [==============================] - 0s 2ms/step - loss: 0.0093 - val_loss: 0.0071\n",
      "Epoch 34/100\n",
      "75/75 [==============================] - 0s 2ms/step - loss: 0.0088 - val_loss: 0.0074\n",
      "Epoch 35/100\n",
      "75/75 [==============================] - 0s 1ms/step - loss: 0.0079 - val_loss: 0.0061\n",
      "Epoch 36/100\n",
      "75/75 [==============================] - 0s 2ms/step - loss: 0.0072 - val_loss: 0.0058\n",
      "Epoch 37/100\n",
      "75/75 [==============================] - 0s 1ms/step - loss: 0.0067 - val_loss: 0.0053\n",
      "Epoch 38/100\n",
      "75/75 [==============================] - 0s 1ms/step - loss: 0.0063 - val_loss: 0.0049\n",
      "Epoch 39/100\n",
      "75/75 [==============================] - 0s 2ms/step - loss: 0.0057 - val_loss: 0.0048\n",
      "Epoch 40/100\n",
      "75/75 [==============================] - 0s 2ms/step - loss: 0.0055 - val_loss: 0.0042\n",
      "Epoch 41/100\n",
      "75/75 [==============================] - 0s 1ms/step - loss: 0.0049 - val_loss: 0.0037\n",
      "Epoch 42/100\n",
      "75/75 [==============================] - 0s 1ms/step - loss: 0.0047 - val_loss: 0.0034\n",
      "Epoch 43/100\n",
      "75/75 [==============================] - 0s 2ms/step - loss: 0.0043 - val_loss: 0.0031\n",
      "Epoch 44/100\n",
      "75/75 [==============================] - 0s 2ms/step - loss: 0.0038 - val_loss: 0.0034\n",
      "Epoch 45/100\n",
      "75/75 [==============================] - 0s 1ms/step - loss: 0.0037 - val_loss: 0.0025\n",
      "Epoch 46/100\n",
      "75/75 [==============================] - 0s 1ms/step - loss: 0.0029 - val_loss: 0.0024\n",
      "Epoch 47/100\n",
      "75/75 [==============================] - 0s 1ms/step - loss: 0.0028 - val_loss: 0.0021\n",
      "Epoch 48/100\n",
      "75/75 [==============================] - 0s 1ms/step - loss: 0.0025 - val_loss: 0.0019\n",
      "Epoch 49/100\n",
      "75/75 [==============================] - 0s 1ms/step - loss: 0.0023 - val_loss: 0.0015\n",
      "Epoch 50/100\n",
      "75/75 [==============================] - 0s 1ms/step - loss: 0.0020 - val_loss: 0.0015\n",
      "Epoch 51/100\n",
      "75/75 [==============================] - 0s 1ms/step - loss: 0.0016 - val_loss: 0.0012\n",
      "Epoch 52/100\n",
      "75/75 [==============================] - 0s 1ms/step - loss: 0.0014 - val_loss: 0.0012\n",
      "Epoch 53/100\n",
      "75/75 [==============================] - 0s 1ms/step - loss: 0.0012 - val_loss: 9.3022e-04\n",
      "Epoch 54/100\n",
      "75/75 [==============================] - 0s 1ms/step - loss: 0.0011 - val_loss: 8.7540e-04\n",
      "Epoch 55/100\n",
      "75/75 [==============================] - 0s 1ms/step - loss: 8.9887e-04 - val_loss: 6.7339e-04\n",
      "Epoch 56/100\n",
      "75/75 [==============================] - 0s 1ms/step - loss: 7.6185e-04 - val_loss: 5.6760e-04\n",
      "Epoch 57/100\n",
      "75/75 [==============================] - 0s 1ms/step - loss: 6.8413e-04 - val_loss: 5.5659e-04\n",
      "Epoch 58/100\n",
      "75/75 [==============================] - 0s 1ms/step - loss: 5.8013e-04 - val_loss: 3.8826e-04\n",
      "Epoch 59/100\n",
      "75/75 [==============================] - 0s 1ms/step - loss: 5.1776e-04 - val_loss: 3.9549e-04\n",
      "Epoch 60/100\n",
      "75/75 [==============================] - 0s 1ms/step - loss: 3.9194e-04 - val_loss: 2.8208e-04\n",
      "Epoch 61/100\n",
      "75/75 [==============================] - 0s 1ms/step - loss: 3.5656e-04 - val_loss: 2.5364e-04\n",
      "Epoch 62/100\n",
      "75/75 [==============================] - 0s 1ms/step - loss: 2.7849e-04 - val_loss: 1.8066e-04\n",
      "Epoch 63/100\n",
      "75/75 [==============================] - 0s 2ms/step - loss: 2.2474e-04 - val_loss: 1.5481e-04\n",
      "Epoch 64/100\n",
      "75/75 [==============================] - 0s 1ms/step - loss: 1.7459e-04 - val_loss: 1.2459e-04\n",
      "Epoch 65/100\n",
      "75/75 [==============================] - 0s 1ms/step - loss: 1.3174e-04 - val_loss: 1.0602e-04\n",
      "Epoch 66/100\n",
      "75/75 [==============================] - 0s 2ms/step - loss: 9.7894e-05 - val_loss: 8.5644e-05\n",
      "Epoch 67/100\n",
      "75/75 [==============================] - 0s 2ms/step - loss: 8.9808e-05 - val_loss: 6.3465e-05\n",
      "Epoch 68/100\n",
      "75/75 [==============================] - 0s 1ms/step - loss: 7.0447e-05 - val_loss: 5.1676e-05\n",
      "Epoch 69/100\n",
      "75/75 [==============================] - 0s 1ms/step - loss: 5.1303e-05 - val_loss: 4.1915e-05\n",
      "Epoch 70/100\n",
      "75/75 [==============================] - 0s 1ms/step - loss: 3.9410e-05 - val_loss: 2.6687e-05\n",
      "Epoch 71/100\n",
      "75/75 [==============================] - 0s 1ms/step - loss: 3.7182e-05 - val_loss: 1.8887e-05\n",
      "Epoch 72/100\n",
      "75/75 [==============================] - 0s 1ms/step - loss: 2.1880e-05 - val_loss: 1.6590e-05\n",
      "Epoch 73/100\n",
      "75/75 [==============================] - 0s 1ms/step - loss: 1.7017e-05 - val_loss: 1.1007e-05\n",
      "Epoch 74/100\n",
      "75/75 [==============================] - 0s 1ms/step - loss: 1.3194e-05 - val_loss: 7.3764e-06\n",
      "Epoch 75/100\n",
      "75/75 [==============================] - 0s 1ms/step - loss: 1.0313e-05 - val_loss: 6.3920e-06\n",
      "Epoch 76/100\n",
      "75/75 [==============================] - 0s 1ms/step - loss: 6.4475e-06 - val_loss: 4.2631e-06\n",
      "Epoch 77/100\n",
      "75/75 [==============================] - 0s 1ms/step - loss: 4.5231e-06 - val_loss: 3.8481e-06\n",
      "Epoch 78/100\n",
      "75/75 [==============================] - 0s 1ms/step - loss: 4.6315e-06 - val_loss: 1.8811e-06\n",
      "Epoch 79/100\n",
      "75/75 [==============================] - 0s 2ms/step - loss: 2.0500e-06 - val_loss: 1.3414e-06\n",
      "Epoch 80/100\n",
      "75/75 [==============================] - 0s 1ms/step - loss: 1.9899e-06 - val_loss: 7.8360e-07\n",
      "Epoch 81/100\n",
      "75/75 [==============================] - 0s 2ms/step - loss: 9.6009e-07 - val_loss: 5.1292e-07\n",
      "Epoch 82/100\n",
      "75/75 [==============================] - 0s 1ms/step - loss: 6.7480e-07 - val_loss: 3.2031e-07\n",
      "Epoch 83/100\n",
      "75/75 [==============================] - 0s 2ms/step - loss: 3.5281e-07 - val_loss: 2.6423e-07\n",
      "Epoch 84/100\n",
      "75/75 [==============================] - 0s 1ms/step - loss: 2.3282e-07 - val_loss: 1.5495e-07\n",
      "Epoch 85/100\n",
      "75/75 [==============================] - 0s 1ms/step - loss: 1.6108e-07 - val_loss: 9.0415e-08\n",
      "Epoch 86/100\n",
      "75/75 [==============================] - 0s 1ms/step - loss: 1.0747e-07 - val_loss: 8.8737e-08\n",
      "Epoch 87/100\n",
      "75/75 [==============================] - 0s 1ms/step - loss: 7.6375e-08 - val_loss: 3.0914e-08\n",
      "Epoch 88/100\n",
      "75/75 [==============================] - 0s 1ms/step - loss: 3.2472e-08 - val_loss: 2.5105e-08\n",
      "Epoch 89/100\n",
      "75/75 [==============================] - 0s 1ms/step - loss: 2.4736e-08 - val_loss: 1.0148e-08\n",
      "Epoch 90/100\n",
      "75/75 [==============================] - 0s 1ms/step - loss: 1.2005e-08 - val_loss: 5.7124e-09\n",
      "Epoch 91/100\n",
      "75/75 [==============================] - 0s 1ms/step - loss: 6.5885e-09 - val_loss: 4.6097e-09\n",
      "Epoch 92/100\n",
      "75/75 [==============================] - 0s 1ms/step - loss: 2.8086e-09 - val_loss: 2.6105e-09\n",
      "Epoch 93/100\n",
      "75/75 [==============================] - 0s 1ms/step - loss: 1.8834e-09 - val_loss: 8.6119e-10\n",
      "Epoch 94/100\n",
      "75/75 [==============================] - 0s 1ms/step - loss: 1.7975e-09 - val_loss: 5.1180e-10\n",
      "Epoch 95/100\n",
      "75/75 [==============================] - 0s 1ms/step - loss: 4.7923e-10 - val_loss: 2.7417e-10\n",
      "Epoch 96/100\n",
      "75/75 [==============================] - 0s 2ms/step - loss: 2.0941e-10 - val_loss: 3.9761e-10\n",
      "Epoch 97/100\n",
      "75/75 [==============================] - 0s 1ms/step - loss: 1.8044e-10 - val_loss: 5.8299e-11\n",
      "Epoch 98/100\n",
      "75/75 [==============================] - 0s 1ms/step - loss: 3.8011e-11 - val_loss: 1.6280e-11\n",
      "Epoch 99/100\n",
      "75/75 [==============================] - 0s 1ms/step - loss: 1.4422e-11 - val_loss: 5.7207e-12\n",
      "Epoch 100/100\n",
      "75/75 [==============================] - 0s 2ms/step - loss: 6.9303e-12 - val_loss: 5.8662e-12\n"
     ]
    }
   ],
   "source": [
    "model = Sequential()\n",
    "model.add(Dense(2, input_dim=x_train.shape[1], activation='linear'))\n",
    "model.add(Dense(1, activation='linear'))\n",
    "model.compile(loss='mse', optimizer='adam')\n",
    "history = model.fit(x_train, y_train, epochs=100, validation_data=(x_test, y_test), batch_size=1)\n",
    "y_hat = model.predict(x_test)"
   ]
  },
  {
   "cell_type": "code",
   "execution_count": 70,
   "metadata": {
    "Collapsed": "false"
   },
   "outputs": [
    {
     "data": {
      "image/png": "[encoded data removed]",
      "text/plain": [
       "<Figure size 432x288 with 1 Axes>"
      ]
     },
     "metadata": {},
     "output_type": "display_data"
    }
   ],
   "source": [
    "# let's log the loss functions and plot them \n",
    "train_loss = history.history['loss']\n",
    "val_loss = history.history['val_loss']\n",
    "\n",
    "plt.plot(train_loss, label='Training Loss')\n",
    "plt.plot(val_loss, label='Validation Loss')\n",
    "plt.legend()\n",
    "plt.title('Loss History')\n",
    "plt.xlabel('Epochs')\n",
    "plt.ylabel('Loss (MSE)')\n",
    "plt.show('addition_loss.png')\n",
    "plt.close()"
   ]
  },
  {
   "cell_type": "markdown",
   "metadata": {
    "Collapsed": "false"
   },
   "source": [
    "The loss looks great. There is no reason to believe that we are overfitting so the network weights should be well trained for this purpose. Let's look at the actual results"
   ]
  },
  {
   "cell_type": "code",
   "execution_count": 114,
   "metadata": {
    "Collapsed": "false"
   },
   "outputs": [
    {
     "name": "stdout",
     "output_type": "stream",
     "text": [
      "12 + 14 = 25.9999980927\n",
      "23 +  9 = 31.9999980927\n",
      "21 +  0 = 21.0      \n",
      " 5 + 17 = 21.9999980927\n",
      "18 +  5 = 23.0000019073\n",
      " 2 + 17 = 19.0000019073\n",
      "14 + 19 = 32.9999961853\n",
      "11 + 17 = 27.9999980927\n",
      " 1 + 19 = 19.9999980927\n",
      " 7 +  4 = 11.0000038147\n",
      "23 +  7 = 29.9999980927\n",
      "12 + 22 = 34.0      \n",
      "12 +  6 = 18.0000019073\n",
      " 9 + 12 = 21.0000019073\n",
      " 4 + 22 = 25.9999961853\n",
      " 4 +  2 = 6.00000476837\n",
      "15 + 18 = 33.0      \n",
      " 6 +  1 = 7.00000476837\n",
      "24 + 13 = 37.0      \n",
      "16 + 24 = 40.0000038147\n",
      "16 +  8 = 24.0      \n",
      "19 + 13 = 32.0000038147\n",
      " 6 + 18 = 23.9999980927\n",
      " 1 + 19 = 19.9999980927\n",
      " 3 +  5 = 8.0000038147\n"
     ]
    }
   ],
   "source": [
    "for ii in range(x_test.shape[0]):\n",
    "    a, b = x_test[ii, :]\n",
    "    true_ans = y_test[ii]\n",
    "    network_ans = y_hat[ii][0]\n",
    "    print('{0:>2} + {1:>2} = {2:<10}'.format(a,b,network_ans))"
   ]
  },
  {
   "cell_type": "markdown",
   "metadata": {
    "Collapsed": "false"
   },
   "source": [
    "And there we have it! To >= 5 decimal places, we have taught a neural network how to add 2 numbers together. "
   ]
  },
  {
   "cell_type": "code",
   "execution_count": 81,
   "metadata": {
    "Collapsed": "false"
   },
   "outputs": [
    {
     "name": "stdout",
     "output_type": "stream",
     "text": [
      "(array([[-1.0307773 , -0.8174403 ],\n",
      "       [ 1.0303065 ,  0.31815538]], dtype=float32), array([0.00052368, 0.00132442], dtype=float32), '\\n')\n",
      "(array([[-1.3847893],\n",
      "       [-0.4148374]], dtype=float32), array([0.00127966], dtype=float32))\n"
     ]
    }
   ],
   "source": [
    "weights0, biases0 = model.layers[0].get_weights()\n",
    "weights1, biases1 = model.layers[1].get_weights()\n",
    "\n",
    "print(weights0.T, biases0, '\\n')\n",
    "print(weights1, biases1)"
   ]
  },
  {
   "cell_type": "markdown",
   "metadata": {
    "Collapsed": "false"
   },
   "source": [
    "From this, we can see that the network has chosen a different set of weights than we had. Specifically, the network is doing the following operation to the input vector (a,b) (ignoring the biases which are close to 0)\n",
    "\n",
    "\\begin{equation}\n",
    "\\begin{pmatrix}\n",
    "    -1.3847893 & -0.4148374\n",
    "\\end{pmatrix}\n",
    "\\begin{pmatrix}\n",
    "    -1.0307773 & -0.8174403\\\\\n",
    "    1.0303065 &  0.31815538\n",
    "\\end{pmatrix}\n",
    "\\begin{pmatrix}\n",
    "    a\\\\\n",
    "    b\n",
    "\\end{pmatrix}\n",
    "=\n",
    "\\begin{pmatrix}\n",
    "0.9999999 & 0.9999998\n",
    "\\end{pmatrix}\n",
    "\\begin{pmatrix}\n",
    "    a\\\\\n",
    "    b\n",
    "\\end{pmatrix}\n",
    "\\end{equation}\n"
   ]
  },
  {
   "cell_type": "code",
   "execution_count": 82,
   "metadata": {
    "Collapsed": "false"
   },
   "outputs": [
    {
     "name": "stdout",
     "output_type": "stream",
     "text": [
      "[[0.9999999 0.9999998]]\n"
     ]
    }
   ],
   "source": [
    "tot_weights = weights1.T.dot(weights0.T)\n",
    "print(tot_weights)"
   ]
  },
  {
   "cell_type": "markdown",
   "metadata": {
    "Collapsed": "false"
   },
   "source": [
    "This is the result of multiplying the weights. When we dot the input with this, we can see that we very nearly get the sum of the input vector.\n",
    "\n",
    "To see another network which performs symbolic addition on a string (e.g, input \"12+16\" and the network says 38) look [here](https://github.com/keras-team/keras/blob/4f2e65c385d60fa87bb143c6c506cbe428895f44/examples/addition_rnn.py)"
   ]
  },
  {
   "cell_type": "code",
   "execution_count": null,
   "metadata": {
    "Collapsed": "false"
   },
   "outputs": [],
   "source": []
  }
 ],
 "metadata": {
  "kernelspec": {
   "display_name": "deepclean",
   "language": "python",
   "name": "deepclean"
  },
  "language_info": {
   "codemirror_mode": {
    "name": "ipython",
    "version": 2
   },
   "file_extension": ".py",
   "mimetype": "text/x-python",
   "name": "python",
   "nbconvert_exporter": "python",
   "pygments_lexer": "ipython2",
   "version": "2.7.5"
  }
 },
 "nbformat": 4,
 "nbformat_minor": 4
}
