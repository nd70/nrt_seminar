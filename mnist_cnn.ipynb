{
 "cells": [
  {
   "cell_type": "code",
   "execution_count": 1,
   "metadata": {
    "Collapsed": "false"
   },
   "outputs": [],
   "source": [
    "# do imports\n",
    "import matplotlib.pyplot as plt\n",
    "import matplotlib\n",
    "matplotlib.use('agg')\n",
    "%matplotlib inline\n",
    "import numpy as np\n",
    "import keras\n",
    "from keras.models import Sequential\n",
    "from keras.layers import Conv2D, MaxPooling2D, Flatten, Dense, Dropout"
   ]
  },
  {
   "cell_type": "code",
   "execution_count": 2,
   "metadata": {
    "Collapsed": "false"
   },
   "outputs": [
    {
     "name": "stdout",
     "output_type": "stream",
     "text": [
      "x_train shape: (60000, 28, 28, 1)\n",
      "60000 train samples\n",
      "10000 test samples\n"
     ]
    }
   ],
   "source": [
    "# we will have digits 0-9 (so ten in total). Each image is 28x28x1 pixels\n",
    "# The 1 is because this is black and white and the greyscale fully describes the pixel.\n",
    "# In color, we have red, green, and blue values, so the 1 would be a 3\n",
    "num_classes = 10\n",
    "input_shape = (28, 28, 1)\n",
    "\n",
    "# collect the data (automatically split into training and testing sets)\n",
    "(x_train, y_train), (x_test, y_test) = keras.datasets.mnist.load_data()\n",
    "\n",
    "# Scale images to the [0, 1] range\n",
    "x_train = x_train.astype(\"float32\") / 255\n",
    "x_test = x_test.astype(\"float32\") / 255\n",
    "\n",
    "# Make sure images have shape (28, 28, 1)\n",
    "x_train = np.expand_dims(x_train, -1)\n",
    "x_test = np.expand_dims(x_test, -1)\n",
    "print(\"x_train shape:\", x_train.shape)\n",
    "print(x_train.shape[0], \"train samples\")\n",
    "print(x_test.shape[0], \"test samples\")"
   ]
  },
  {
   "cell_type": "code",
   "execution_count": 3,
   "metadata": {
    "Collapsed": "false"
   },
   "outputs": [
    {
     "data": {
      "image/png": "[encoded data removed]",
      "text/plain": [
       "<Figure size 432x288 with 9 Axes>"
      ]
     },
     "metadata": {
      "needs_background": "light"
     },
     "output_type": "display_data"
    }
   ],
   "source": [
    "# plot some samples\n",
    "for ii in range(9): \n",
    "    plt.subplot(330+1+ii)\n",
    "    plt.imshow(x_train[ii, :, :, 0], cmap='gray')\n",
    "    frame = plt.gca()\n",
    "    frame.axes.get_xaxis().set_visible(False)\n",
    "    frame.axes.get_yaxis().set_visible(False)\n",
    "plt.show()\n",
    "plt.close()"
   ]
  },
  {
   "cell_type": "code",
   "execution_count": 4,
   "metadata": {
    "Collapsed": "false"
   },
   "outputs": [],
   "source": [
    "# do \"one-hot\" encoding on the target data\n",
    "y_train = keras.utils.to_categorical(y_train, num_classes)\n",
    "y_test = keras.utils.to_categorical(y_test, num_classes)"
   ]
  },
  {
   "cell_type": "code",
   "execution_count": 5,
   "metadata": {
    "Collapsed": "false"
   },
   "outputs": [
    {
     "name": "stdout",
     "output_type": "stream",
     "text": [
      "Epoch 1/15\n",
      "422/422 [==============================] - 22s 47ms/step - loss: 0.7376 - accuracy: 0.7683 - val_loss: 0.0800 - val_accuracy: 0.9785\n",
      "Epoch 2/15\n",
      "422/422 [==============================] - 11s 25ms/step - loss: 0.1194 - accuracy: 0.9630 - val_loss: 0.0597 - val_accuracy: 0.9820\n",
      "Epoch 3/15\n",
      "422/422 [==============================] - 10s 24ms/step - loss: 0.0898 - accuracy: 0.9728 - val_loss: 0.0454 - val_accuracy: 0.9877\n",
      "Epoch 4/15\n",
      "422/422 [==============================] - 10s 23ms/step - loss: 0.0693 - accuracy: 0.9789 - val_loss: 0.0414 - val_accuracy: 0.9877\n",
      "Epoch 5/15\n",
      "422/422 [==============================] - 10s 23ms/step - loss: 0.0624 - accuracy: 0.9810 - val_loss: 0.0378 - val_accuracy: 0.9887\n",
      "Epoch 6/15\n",
      "422/422 [==============================] - 10s 23ms/step - loss: 0.0581 - accuracy: 0.9814 - val_loss: 0.0335 - val_accuracy: 0.9908\n",
      "Epoch 7/15\n",
      "422/422 [==============================] - 10s 23ms/step - loss: 0.0506 - accuracy: 0.9833 - val_loss: 0.0353 - val_accuracy: 0.9898\n",
      "Epoch 8/15\n",
      "422/422 [==============================] - 10s 24ms/step - loss: 0.0473 - accuracy: 0.9855 - val_loss: 0.0363 - val_accuracy: 0.9895\n",
      "Epoch 9/15\n",
      "422/422 [==============================] - 10s 23ms/step - loss: 0.0447 - accuracy: 0.9853 - val_loss: 0.0317 - val_accuracy: 0.9918\n",
      "Epoch 10/15\n",
      "422/422 [==============================] - 10s 23ms/step - loss: 0.0422 - accuracy: 0.9861 - val_loss: 0.0330 - val_accuracy: 0.9913\n",
      "Epoch 11/15\n",
      "422/422 [==============================] - 10s 23ms/step - loss: 0.0375 - accuracy: 0.9877 - val_loss: 0.0306 - val_accuracy: 0.9918\n",
      "Epoch 12/15\n",
      "422/422 [==============================] - 10s 23ms/step - loss: 0.0379 - accuracy: 0.9876 - val_loss: 0.0303 - val_accuracy: 0.9923\n",
      "Epoch 13/15\n",
      "422/422 [==============================] - 10s 23ms/step - loss: 0.0361 - accuracy: 0.9884 - val_loss: 0.0307 - val_accuracy: 0.9918\n",
      "Epoch 14/15\n",
      "422/422 [==============================] - 10s 23ms/step - loss: 0.0341 - accuracy: 0.9884 - val_loss: 0.0307 - val_accuracy: 0.9923\n",
      "Epoch 15/15\n",
      "422/422 [==============================] - 10s 23ms/step - loss: 0.0325 - accuracy: 0.9898 - val_loss: 0.0298 - val_accuracy: 0.9915\n"
     ]
    },
    {
     "data": {
      "text/plain": [
       "<tensorflow.python.keras.callbacks.History at 0x7f9e94543898>"
      ]
     },
     "execution_count": 5,
     "metadata": {},
     "output_type": "execute_result"
    }
   ],
   "source": [
    "# build and run the network\n",
    "model = Sequential()\n",
    "model.add(Conv2D(32, kernel_size=(3, 3), activation=\"relu\", input_shape=input_shape))\n",
    "model.add(MaxPooling2D(pool_size=(2, 2)))\n",
    "model.add(Conv2D(64, kernel_size=(3, 3), activation=\"relu\"))\n",
    "model.add(MaxPooling2D(pool_size=(2, 2)))\n",
    "model.add(Flatten())\n",
    "model.add(Dropout(0.5))\n",
    "model.add(Dense(num_classes, activation=\"softmax\"))\n",
    "\n",
    "model.compile(loss=\"categorical_crossentropy\", optimizer=\"adam\", metrics=[\"accuracy\"])\n",
    "model.fit(x_train, y_train, batch_size=128, epochs=15, validation_split=0.1)"
   ]
  },
  {
   "cell_type": "code",
   "execution_count": 6,
   "metadata": {
    "Collapsed": "false"
   },
   "outputs": [
    {
     "name": "stdout",
     "output_type": "stream",
     "text": [
      "Test loss: 0.02740747295320034\n",
      "Test accuracy: 0.9904999732971191\n"
     ]
    }
   ],
   "source": [
    "# Let's see how well we did\n",
    "score = model.evaluate(x_test, y_test, verbose=0)\n",
    "print(\"Test loss:\", score[0])\n",
    "print(\"Test accuracy:\", score[1])"
   ]
  },
  {
   "cell_type": "code",
   "execution_count": 15,
   "metadata": {
    "Collapsed": "false"
   },
   "outputs": [
    {
     "name": "stdout",
     "output_type": "stream",
     "text": [
      "(10000, 10)\n"
     ]
    }
   ],
   "source": [
    "y_hat = model.predict(x_test)\n",
    "print(y_hat.shape)"
   ]
  },
  {
   "cell_type": "code",
   "execution_count": 26,
   "metadata": {
    "Collapsed": "false"
   },
   "outputs": [],
   "source": [
    "# brute force rounding for easy comparison with the target\n",
    "for ix in range(y_hat.shape[0]):\n",
    "    for jj in range(y_hat.shape[1]):\n",
    "        if y_hat[ix, jj] > 0.5:\n",
    "            y_hat[ix, jj] = 1\n",
    "        else:\n",
    "            y_hat[ix, jj] = 0\n",
    "\n",
    "# let's collect where we went wrong (with ~99% accuracy, there should be ~100 incorrect guesses)\n",
    "err = []\n",
    "for ix in range(y_hat.shape[0]):\n",
    "    #print(y_hat[ix, :], '\\t', y_test[ix, :])\n",
    "    if y_hat[ix, :].dot(y_test[ix, :]) != 1:\n",
    "        err.append(ix)"
   ]
  },
  {
   "cell_type": "code",
   "execution_count": 18,
   "metadata": {
    "Collapsed": "false"
   },
   "outputs": [
    {
     "data": {
      "image/png": "[encoded data removed]",
      "text/plain": [
       "<Figure size 432x288 with 9 Axes>"
      ]
     },
     "metadata": {
      "needs_background": "light"
     },
     "output_type": "display_data"
    }
   ],
   "source": [
    "# plot some samples that were guessed incorrectly\n",
    "for ii in range(9): \n",
    "    plt.subplot(330+1+ii)\n",
    "    plt.imshow(x_test[err[ii], :, :, 0], cmap='gray')\n",
    "    frame = plt.gca()\n",
    "    frame.axes.get_xaxis().set_visible(False)\n",
    "    frame.axes.get_yaxis().set_visible(False)\n",
    "plt.show()\n",
    "plt.close()"
   ]
  },
  {
   "cell_type": "code",
   "execution_count": 25,
   "metadata": {
    "Collapsed": "false"
   },
   "outputs": [
    {
     "name": "stdout",
     "output_type": "stream",
     "text": [
      "True: 9\t Guess: 8\n",
      "True: 2\t Guess: 7\n",
      "True: 3\t Guess: 5\n",
      "True: 8\t Guess: 0\n",
      "True: 8\t Guess: 2\n",
      "True: 2\t Guess: 1\n",
      "True: 9\t Guess: 7\n",
      "True: 2\t Guess: 7\n",
      "True: 3\t Guess: 5\n"
     ]
    }
   ],
   "source": [
    "# see what we guessed and what the truth was\n",
    "for ix in range(9):\n",
    "    true = int(y_test[err[ix], :].dot(np.arange(10)))\n",
    "    guess = int(y_hat[err[ix], :].dot(np.arange(10)))\n",
    "    print('True: {0}\\t Guess: {1}'.format(true, guess))"
   ]
  }
 ],
 "metadata": {
  "kernelspec": {
   "display_name": "refinery",
   "language": "python",
   "name": "refinery"
  },
  "language_info": {
   "codemirror_mode": {
    "name": "ipython",
    "version": 3
   },
   "file_extension": ".py",
   "mimetype": "text/x-python",
   "name": "python",
   "nbconvert_exporter": "python",
   "pygments_lexer": "ipython3",
   "version": "3.6.8"
  }
 },
 "nbformat": 4,
 "nbformat_minor": 4
}
